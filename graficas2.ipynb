{
 "cells": [
  {
   "cell_type": "markdown",
   "metadata": {},
   "source": [
    "# Cargar el dataset: \n",
    "\n",
    "Lee el dataset de notas de estudiantes en Python y almacénalo en una estructura de datos adecuada, como un DataFrame de Pandas."
   ]
  },
  {
   "cell_type": "code",
   "execution_count": null,
   "metadata": {},
   "outputs": [],
   "source": [
    "# Importar las librerías necesarias\n",
    "import pandas as pd\n",
    "import matplotlib.pyplot as plt\n",
    "# Definir los datos del dataset\n",
    "data = {\n",
    "    'id': [1, 2, 3, 4, 5, 6, 7, 8, 9, 10, 11, 12, 13, 14, 15, 16, 17, 18, 19, 20],\n",
    "    'materia': ['Matemáticas', 'Historia', 'Ciencias', 'Lenguaje', 'Matemáticas', 'Historia', 'Ciencias', 'Lenguaje', \n",
    "                'Matemáticas', 'Historia', 'Ciencias', 'Lenguaje', 'Matemáticas', 'Historia', 'Ciencias', 'Lenguaje', \n",
    "                'Matemáticas', 'Historia', 'Ciencias', 'Lenguaje'],\n",
    "    'nota': [80, 65, 90, 75, 95, 70, 85, 60, 78, 82, 93, 68, 73, 88, 77, 50, 92, 63, 85, 79],\n",
    "    'aprobado': ['Sí', 'No', 'Sí', 'Sí', 'Sí', 'Sí', 'Sí', 'No', 'Sí', 'Sí', 'Sí', 'Sí', 'Sí', 'Sí', 'Sí', 'No', 'Sí', 'No', 'Sí', 'Sí']\n",
    "}\n",
    "\n",
    "# Crear un DataFrame de Pandas\n",
    "df = pd.DataFrame(data)\n",
    "\n",
    "# Mostrar el DataFrame\n",
    "df"
   ]
  },
  {
   "cell_type": "markdown",
   "metadata": {},
   "source": [
    "# Graficar la distribución de notas con un boxplot\n",
    "Utiliza Matplotlib para crear un boxplot que muestre la distribución de notas de los estudiantes. Asegúrate de ajustar los ejes, agregar un título y etiquetas apropiadas para el gráfico."
   ]
  },
  {
   "cell_type": "code",
   "execution_count": null,
   "metadata": {},
   "outputs": [],
   "source": [
    "# Importar las librerías necesarias\n",
    "import pandas as pd\n",
    "import matplotlib.pyplot as plt\n",
    "\n",
    "# Definir los datos del dataset\n",
    "data = {\n",
    "    'id': [1, 2, 3, 4, 5, 6, 7, 8, 9, 10, 11, 12, 13, 14, 15, 16, 17, 18, 19, 20],\n",
    "    'materia': ['Matemáticas', 'Historia', 'Ciencias', 'Lenguaje', 'Matemáticas', 'Historia', 'Ciencias', 'Lenguaje',\n",
    "                'Matemáticas', 'Historia', 'Ciencias', 'Lenguaje', 'Matemáticas', 'Historia', 'Ciencias', 'Lenguaje',\n",
    "                'Matemáticas', 'Historia', 'Ciencias', 'Lenguaje'],\n",
    "    'nota': [80, 65, 90, 75, 95, 70, 85, 60, 78, 82, 93, 68, 73, 88, 77, 50, 92, 63, 85, 79],\n",
    "    'aprobado': ['Sí', 'No', 'Sí', 'Sí', 'Sí', 'Sí', 'Sí', 'No', 'Sí', 'Sí', 'Sí', 'Sí', 'Sí', 'Sí', 'Sí', 'No', 'Sí', 'No', 'Sí', 'Sí']\n",
    "}\n",
    "\n",
    "# Crear un DataFrame de Pandas\n",
    "df = pd.DataFrame(data)\n",
    "# Aplicar el estilo \"fivethirtyeight\"\n",
    "plt.style.use('fivethirtyeight')\n",
    "# Graficar la distribución de notas con un boxplot por cada materia\n",
    "plt.boxplot([df[df['materia'] == materia]['nota'] for materia in df['materia'].unique()],\n",
    "            labels=df['materia'].unique(), medianprops={'color': 'orange'})\n",
    "plt.title('Distribución de Notas')\n",
    "plt.ylabel('Nota')\n",
    "plt.grid(True)\n",
    "\n",
    "# Guardar la figura como archivo PNG\n",
    "plt.savefig('distribucion_notas_boxplot.png')\n",
    "\n",
    "# Mostrar el gráfico\n",
    "plt.show()\n"
   ]
  },
  {
   "cell_type": "markdown",
   "metadata": {},
   "source": [
    "# Graficar la distribución de aprobados con un pie chart\n",
    "Utiliza Matplotlib para crear un pie chart que muestre la proporción de estudiantes aprobados y no aprobados en el dataset."
   ]
  },
  {
   "cell_type": "code",
   "execution_count": null,
   "metadata": {},
   "outputs": [],
   "source": [
    "# Importar las librerías necesarias\n",
    "import pandas as pd\n",
    "import matplotlib.pyplot as plt\n",
    "\n",
    "# Definir los datos del dataset\n",
    "data = {\n",
    "    'id': [1, 2, 3, 4, 5, 6, 7, 8, 9, 10, 11, 12, 13, 14, 15, 16, 17, 18, 19, 20],\n",
    "    'materia': ['Matemáticas', 'Historia', 'Ciencias', 'Lenguaje', 'Matemáticas', 'Historia', 'Ciencias', 'Lenguaje',\n",
    "                'Matemáticas', 'Historia', 'Ciencias', 'Lenguaje', 'Matemáticas', 'Historia', 'Ciencias', 'Lenguaje',\n",
    "                'Matemáticas', 'Historia', 'Ciencias', 'Lenguaje'],\n",
    "    'nota': [80, 65, 90, 75, 95, 70, 85, 60, 78, 82, 93, 68, 73, 88, 77, 50, 92, 63, 85, 79],\n",
    "    'aprobado': ['Sí', 'No', 'Sí', 'Sí', 'Sí', 'Sí', 'Sí', 'No', 'Sí', 'Sí', 'Sí', 'Sí', 'Sí', 'Sí', 'Sí', 'No', 'Sí', 'No', 'Sí', 'Sí']\n",
    "}\n",
    "\n",
    "# Crear un DataFrame de Pandas\n",
    "df = pd.DataFrame(data)\n",
    "\n",
    "# Calcular la cantidad de estudiantes aprobados y no aprobados\n",
    "aprobados = df[df['aprobado'] == 'Sí'].shape[0]\n",
    "no_aprobados = df[df['aprobado'] == 'No'].shape[0]\n",
    "\n",
    "# Preparar los datos para el pie chart\n",
    "sizes = [aprobados, no_aprobados]\n",
    "labels = ['Aprobados', 'No Aprobados']\n",
    "colors = ['blue', 'orange']  # Colores para los segmentos (azul y naranja)\n",
    "\n",
    "# Crear el pie chart\n",
    "plt.pie(sizes, labels=labels, colors=colors, autopct='%1.1f%%', startangle=90)\n",
    "plt.title('Distribución de Aprobados')\n",
    "\n",
    "# Guardar la figura como archivo PNG\n",
    "plt.savefig('distribucionaprobados_piechart.png')\n",
    "\n",
    "# Mostrar el gráfico\n",
    "plt.show()\n"
   ]
  }
 ],
 "metadata": {
  "kernelspec": {
   "display_name": "Python 3",
   "language": "python",
   "name": "python3"
  },
  "language_info": {
   "codemirror_mode": {
    "name": "ipython",
    "version": 3
   },
   "file_extension": ".py",
   "mimetype": "text/x-python",
   "name": "python",
   "nbconvert_exporter": "python",
   "pygments_lexer": "ipython3",
   "version": "3.9.5"
  }
 },
 "nbformat": 4,
 "nbformat_minor": 2
}
